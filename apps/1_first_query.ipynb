{
 "cells": [
  {
   "cell_type": "code",
   "execution_count": 1,
   "id": "dfecc9b7-abf5-42a1-901b-8db0466ff65b",
   "metadata": {
    "execution": {
     "iopub.execute_input": "2025-08-24T16:10:35.507198Z",
     "iopub.status.busy": "2025-08-24T16:10:35.506909Z",
     "iopub.status.idle": "2025-08-24T16:10:36.941710Z",
     "shell.execute_reply": "2025-08-24T16:10:36.940537Z",
     "shell.execute_reply.started": "2025-08-24T16:10:35.507177Z"
    }
   },
   "outputs": [],
   "source": [
    "# Import the class for defining Hugging Face pipelines\n",
    "from langchain_huggingface import HuggingFacePipeline as hfp"
   ]
  },
  {
   "cell_type": "code",
   "execution_count": 3,
   "id": "f0c1e3d1-5bfe-4d96-8118-8d4cc965f22b",
   "metadata": {},
   "outputs": [
    {
     "data": {
      "application/vnd.jupyter.widget-view+json": {
       "model_id": "f38c0ca37dfc44b1a440e606bbca97f3",
       "version_major": 2,
       "version_minor": 0
      },
      "text/plain": [
       "tokenizer_config.json:   0%|          | 0.00/942 [00:00<?, ?B/s]"
      ]
     },
     "metadata": {},
     "output_type": "display_data"
    },
    {
     "name": "stderr",
     "output_type": "stream",
     "text": [
      "D:\\My Project\\Learn-LangChain\\env_langchain\\Lib\\site-packages\\huggingface_hub\\file_download.py:143: UserWarning: `huggingface_hub` cache-system uses symlinks by default to efficiently store duplicated files but your machine does not support them in C:\\Users\\maruf\\.cache\\huggingface\\hub\\models--crumb--nano-mistral. Caching files will still work but in a degraded version that might require more space on your disk. This warning can be disabled by setting the `HF_HUB_DISABLE_SYMLINKS_WARNING` environment variable. For more details, see https://huggingface.co/docs/huggingface_hub/how-to-cache#limitations.\n",
      "To support symlinks on Windows, you either need to activate Developer Mode or to run Python as an administrator. In order to activate developer mode, see this article: https://docs.microsoft.com/en-us/windows/apps/get-started/enable-your-device-for-development\n",
      "  warnings.warn(message)\n"
     ]
    },
    {
     "data": {
      "application/vnd.jupyter.widget-view+json": {
       "model_id": "e8dea98318754737b06fd533291bab51",
       "version_major": 2,
       "version_minor": 0
      },
      "text/plain": [
       "tokenizer.model:   0%|          | 0.00/493k [00:00<?, ?B/s]"
      ]
     },
     "metadata": {},
     "output_type": "display_data"
    },
    {
     "data": {
      "application/vnd.jupyter.widget-view+json": {
       "model_id": "64284e71031747838f62e988821c4a4c",
       "version_major": 2,
       "version_minor": 0
      },
      "text/plain": [
       "tokenizer.json: 0.00B [00:00, ?B/s]"
      ]
     },
     "metadata": {},
     "output_type": "display_data"
    },
    {
     "data": {
      "application/vnd.jupyter.widget-view+json": {
       "model_id": "50a60da27ddb4786bab95cb20027f754",
       "version_major": 2,
       "version_minor": 0
      },
      "text/plain": [
       "special_tokens_map.json:   0%|          | 0.00/437 [00:00<?, ?B/s]"
      ]
     },
     "metadata": {},
     "output_type": "display_data"
    },
    {
     "data": {
      "application/vnd.jupyter.widget-view+json": {
       "model_id": "ee474cb365fb493aa03892e2592bf16c",
       "version_major": 2,
       "version_minor": 0
      },
      "text/plain": [
       "config.json:   0%|          | 0.00/633 [00:00<?, ?B/s]"
      ]
     },
     "metadata": {},
     "output_type": "display_data"
    },
    {
     "data": {
      "application/vnd.jupyter.widget-view+json": {
       "model_id": "f4c91ef6c2b34758ac8543a5cdbc11fe",
       "version_major": 2,
       "version_minor": 0
      },
      "text/plain": [
       "model.safetensors:   0%|          | 0.00/340M [00:00<?, ?B/s]"
      ]
     },
     "metadata": {},
     "output_type": "display_data"
    },
    {
     "data": {
      "application/vnd.jupyter.widget-view+json": {
       "model_id": "bbcaa16f6a6b46d9a668eeab42f7ca22",
       "version_major": 2,
       "version_minor": 0
      },
      "text/plain": [
       "generation_config.json:   0%|          | 0.00/116 [00:00<?, ?B/s]"
      ]
     },
     "metadata": {},
     "output_type": "display_data"
    },
    {
     "name": "stderr",
     "output_type": "stream",
     "text": [
      "Device set to use cuda:0\n"
     ]
    }
   ],
   "source": [
    "# Define the LLM from the Hugging Face model ID\n",
    "llm = hfp.from_model_id(\n",
    "    model_id=\"crumb/nano-mistral\",\n",
    "    task=\"text-generation\",\n",
    "    pipeline_kwargs={\"max_new_tokens\": 20}\n",
    ")"
   ]
  },
  {
   "cell_type": "markdown",
   "id": "36c9c045-0955-472a-8a22-243e6f2fac47",
   "metadata": {},
   "source": [
    "## Invoke the model using prompt"
   ]
  },
  {
   "cell_type": "code",
   "execution_count": 4,
   "id": "95952d01-462b-4e27-aac2-4e2ddc0319c5",
   "metadata": {},
   "outputs": [
    {
     "name": "stdout",
     "output_type": "stream",
     "text": [
      "Hugging Face is a non-profit organization offering hands-on community service, education and service to its members. This\n"
     ]
    }
   ],
   "source": [
    "prompt = \"Hugging Face is\"\n",
    "\n",
    "# Invoke the model\n",
    "response = llm.invoke(prompt)\n",
    "print(response)"
   ]
  },
  {
   "cell_type": "code",
   "execution_count": null,
   "id": "e72d8fda-e4ed-482b-b568-3a143ff447a1",
   "metadata": {},
   "outputs": [],
   "source": []
  }
 ],
 "metadata": {
  "kernelspec": {
   "display_name": "Python 3 (ipykernel)",
   "language": "python",
   "name": "python3"
  },
  "language_info": {
   "codemirror_mode": {
    "name": "ipython",
    "version": 3
   },
   "file_extension": ".py",
   "mimetype": "text/x-python",
   "name": "python",
   "nbconvert_exporter": "python",
   "pygments_lexer": "ipython3",
   "version": "3.13.6"
  }
 },
 "nbformat": 4,
 "nbformat_minor": 5
}
