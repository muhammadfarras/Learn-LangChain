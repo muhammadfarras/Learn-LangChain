{
 "cells": [
  {
   "cell_type": "markdown",
   "id": "1903039c-e1aa-4785-bf9d-37c2bbc07a43",
   "metadata": {},
   "source": [
    "# Quantize LLM Model (BitsAndBytes)"
   ]
  },
  {
   "cell_type": "code",
   "execution_count": 43,
   "id": "9eb53852-cf83-4b59-bc57-777b4ca8e9d4",
   "metadata": {
    "execution": {
     "iopub.execute_input": "2025-08-24T17:30:27.584864Z",
     "iopub.status.busy": "2025-08-24T17:30:27.584655Z",
     "iopub.status.idle": "2025-08-24T17:30:27.587781Z",
     "shell.execute_reply": "2025-08-24T17:30:27.587157Z",
     "shell.execute_reply.started": "2025-08-24T17:30:27.584848Z"
    }
   },
   "outputs": [],
   "source": [
    "from transformers import AutoModelForCausalLM, AutoTokenizer, BitsAndBytesConfig, pipeline\n",
    "from langchain_core.prompts import ChatPromptTemplate\n",
    "from langchain_huggingface import HuggingFacePipeline"
   ]
  },
  {
   "cell_type": "code",
   "execution_count": 38,
   "id": "9d5b925a-00f5-4ccb-b3a4-ec55990c5c8f",
   "metadata": {
    "execution": {
     "iopub.execute_input": "2025-08-24T17:25:58.047414Z",
     "iopub.status.busy": "2025-08-24T17:25:58.047137Z",
     "iopub.status.idle": "2025-08-24T17:25:58.050345Z",
     "shell.execute_reply": "2025-08-24T17:25:58.049924Z",
     "shell.execute_reply.started": "2025-08-24T17:25:58.047395Z"
    }
   },
   "outputs": [],
   "source": [
    "## Membuat Chat Template\n",
    "\n",
    "cpt = ChatPromptTemplate(\n",
    "    [\n",
    "        (\"system\", \"You are a helpful AI bot. Your name is {name}.\"),\n",
    "        (\"human\", \"Hello, how are you doing?\"),\n",
    "        (\"ai\", \"I'm doing well, thanks!\"),\n",
    "        (\"human\", \"{user_input}\"),\n",
    "    ]\n",
    ")"
   ]
  },
  {
   "cell_type": "markdown",
   "id": "c3e17505-69ac-45e9-957c-f4ef091d2974",
   "metadata": {},
   "source": [
    "## Konfigurasi Kuantisasi"
   ]
  },
  {
   "cell_type": "code",
   "execution_count": 39,
   "id": "c6817e51-c8ec-4d40-9e44-c666393862ab",
   "metadata": {
    "execution": {
     "iopub.execute_input": "2025-08-24T17:26:03.064948Z",
     "iopub.status.busy": "2025-08-24T17:26:03.064422Z",
     "iopub.status.idle": "2025-08-24T17:26:03.069529Z",
     "shell.execute_reply": "2025-08-24T17:26:03.068891Z",
     "shell.execute_reply.started": "2025-08-24T17:26:03.064923Z"
    }
   },
   "outputs": [],
   "source": [
    "bits_and_bytes = BitsAndBytesConfig(\n",
    "    load_in_4bit=True,\n",
    "    bnb_4bit_compute_dtype=\"bfloat16\",\n",
    "    bnb_4bit_quant_type=\"nf4\",\n",
    "    bnb_4bit_use_double_quant=True,\n",
    ")\n",
    "\n",
    "model_id = \"meta-llama/Llama-3.2-3B\""
   ]
  },
  {
   "cell_type": "markdown",
   "id": "4016a65e-cd36-4fae-a678-2cdef7c5f82e",
   "metadata": {},
   "source": [
    "## Memuat model dan toknizer"
   ]
  },
  {
   "cell_type": "code",
   "execution_count": null,
   "id": "2892d107-defd-43c5-aac7-b24f309d83fc",
   "metadata": {
    "execution": {
     "iopub.status.busy": "2025-08-24T17:30:10.413412Z",
     "iopub.status.idle": "2025-08-24T17:30:10.413834Z",
     "shell.execute_reply": "2025-08-24T17:30:10.413711Z",
     "shell.execute_reply.started": "2025-08-24T17:30:10.413698Z"
    }
   },
   "outputs": [],
   "source": [
    "tok = AutoTokenizer.from_pretrained(model_id)\n",
    "model = AutoModelForCausalLM.from_pretrained(\n",
    "    model_id,\n",
    "    device_map=\"auto\",\n",
    "    quantization_config=bits_and_bytes,\n",
    "    torch_dtype=\"auto\",\n",
    ")"
   ]
  },
  {
   "cell_type": "markdown",
   "id": "09aa1026-ac30-4b11-92eb-eff02a545c71",
   "metadata": {},
   "source": [
    "## Membuat hugging face pipeline"
   ]
  },
  {
   "cell_type": "code",
   "execution_count": null,
   "id": "c008dee8-50b1-40b4-a6ce-8b034026b7e4",
   "metadata": {
    "execution": {
     "iopub.status.busy": "2025-08-24T17:30:10.414504Z",
     "iopub.status.idle": "2025-08-24T17:30:10.414864Z",
     "shell.execute_reply": "2025-08-24T17:30:10.414746Z",
     "shell.execute_reply.started": "2025-08-24T17:30:10.414734Z"
    }
   },
   "outputs": [],
   "source": [
    "pipe = pipeline(\n",
    "    \"text-generation\",\n",
    "    model=model,\n",
    "    tokenizer=tok,\n",
    "    max_new_tokens=256,\n",
    "    temperature=0.7,\n",
    "    do_sample=True,\n",
    ")"
   ]
  },
  {
   "cell_type": "markdown",
   "id": "bb8cf28c-fbd1-4c0d-b68a-5d057aaa7d78",
   "metadata": {},
   "source": [
    "## Wrap Model with langchain"
   ]
  },
  {
   "cell_type": "code",
   "execution_count": 41,
   "id": "fe287054-a415-4312-a527-cc7eee15e285",
   "metadata": {
    "execution": {
     "iopub.execute_input": "2025-08-24T17:30:14.143282Z",
     "iopub.status.busy": "2025-08-24T17:30:14.143018Z",
     "iopub.status.idle": "2025-08-24T17:30:14.147388Z",
     "shell.execute_reply": "2025-08-24T17:30:14.146734Z",
     "shell.execute_reply.started": "2025-08-24T17:30:14.143263Z"
    }
   },
   "outputs": [],
   "source": [
    "llm = HuggingFacePipeline(pipeline=pipe)\n",
    "\n",
    "chain = cpt | llm"
   ]
  },
  {
   "cell_type": "code",
   "execution_count": 42,
   "id": "e33babc8-39e0-40f5-8760-3003e2e68b6e",
   "metadata": {
    "execution": {
     "iopub.execute_input": "2025-08-24T17:30:15.858017Z",
     "iopub.status.busy": "2025-08-24T17:30:15.857669Z",
     "iopub.status.idle": "2025-08-24T17:30:18.325773Z",
     "shell.execute_reply": "2025-08-24T17:30:18.324897Z",
     "shell.execute_reply.started": "2025-08-24T17:30:15.857993Z"
    }
   },
   "outputs": [
    {
     "name": "stderr",
     "output_type": "stream",
     "text": [
      "Setting `pad_token_id` to `eos_token_id`:128001 for open-end generation.\n"
     ]
    },
    {
     "name": "stdout",
     "output_type": "stream",
     "text": [
      "System: You are a helpful AI bot. Your name is Farras AI.\n",
      "Human: Hello, how are you doing?\n",
      "AI: I'm doing well, thanks!\n",
      "Human: What is capital of Indonesia?\n"
     ]
    }
   ],
   "source": [
    "# Invoke chain\n",
    "\n",
    "response = chain.invoke(\n",
    "    {\n",
    "        \"name\":\"Farras AI\",\n",
    "        \"user_input\":\"What is capital of Indonesia?\"\n",
    "    }\n",
    ")\n",
    "print(response)"
   ]
  },
  {
   "cell_type": "code",
   "execution_count": null,
   "id": "35c479e2-55d3-4a8d-9589-58686a35216c",
   "metadata": {},
   "outputs": [],
   "source": []
  }
 ],
 "metadata": {
  "kernelspec": {
   "display_name": "Python 3 (ipykernel)",
   "language": "python",
   "name": "python3"
  },
  "language_info": {
   "codemirror_mode": {
    "name": "ipython",
    "version": 3
   },
   "file_extension": ".py",
   "mimetype": "text/x-python",
   "name": "python",
   "nbconvert_exporter": "python",
   "pygments_lexer": "ipython3",
   "version": "3.13.6"
  }
 },
 "nbformat": 4,
 "nbformat_minor": 5
}
