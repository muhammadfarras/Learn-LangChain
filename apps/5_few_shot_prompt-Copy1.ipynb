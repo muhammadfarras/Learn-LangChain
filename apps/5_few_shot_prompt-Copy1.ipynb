{
 "cells": [
  {
   "cell_type": "markdown",
   "id": "96f407c9-6857-4cc2-b87c-31287366fa1f",
   "metadata": {},
   "source": [
    "# Few-Shot Prompting"
   ]
  },
  {
   "cell_type": "markdown",
   "id": "e266205b-b1a5-4848-8046-30d354ceb282",
   "metadata": {},
   "source": [
    "## Limitasi standard templates dan FewShotPromptTemplate\n",
    "\n",
    "* `PromptTemplate` & `ChatPromptTemplate` mampu untuk menanganain beberapa contoh template, namun tidak untuk menghadapi contoh template yang banyak.\n",
    "* `FewShotPromptTemplate` dapat menydiakan lebi banyak context ke model dengan memberikan banyak contoh prompt dalam bentuk _list of dictionary_.\n",
    "\n",
    "```python\n",
    "examples = [\n",
    "    {\n",
    "        \"question\":\"...\",\n",
    "        \"answer\":\"...\"\n",
    "    },\n",
    "    # ... selanjutnya\n",
    "]\n",
    "```\n",
    "\n",
    "Namun jika kita memiliki struktur data yang lainnya seperti `DataFrame` kita perlu untuk mengkonversinya kedalam bentul _list of dictionary_, DataFrame pada pandas memiliki method `to_dict`."
   ]
  },
  {
   "cell_type": "markdown",
   "id": "490956ed-bcf5-43f6-9f4b-74b82e8f4172",
   "metadata": {},
   "source": [
    "## Memberi format untuk contoh pertanyaan dan Jawaban\n",
    "\n",
    "Kita perlu mengatur format pertanyaan dan jawaban menggunakan class `PromptTemplate`."
   ]
  },
  {
   "cell_type": "code",
   "execution_count": 25,
   "id": "ff496e9f-82b0-4338-91d8-c01239c793f7",
   "metadata": {},
   "outputs": [
    {
     "name": "stdout",
     "output_type": "stream",
     "text": [
      "Question: Warna negara indonesia\n",
      "Merah dan Puting\n"
     ]
    }
   ],
   "source": [
    "from langchain_core.prompts import PromptTemplate, FewShotPromptTemplate\n",
    "fr\n",
    "\n",
    "example_prompt = PromptTemplate.from_template(\"Question: {question}\\r\\n{answer}\")\n",
    "prompt = example_prompt.invoke({\n",
    "    \"question\":\"Warna negara indonesia\",\n",
    "    \"answer\":\"Merah dan Puting\"\n",
    "})\n",
    "\n",
    "print(prompt.text)"
   ]
  },
  {
   "cell_type": "markdown",
   "id": "49ee3bf2-997d-4039-ab79-9ee802fb0e71",
   "metadata": {},
   "source": [
    "Kita dapat meng-invoke prompt template untuk mengetahui format template yang diberikan."
   ]
  },
  {
   "cell_type": "markdown",
   "id": "f033e602-3e6a-4fc9-b459-c33c9d7f6a46",
   "metadata": {},
   "source": [
    "## Contoh pertanyaan dan jawaban\n",
    "\n",
    "Membuat contoh untuk FweShotPromptTemplate"
   ]
  },
  {
   "cell_type": "code",
   "execution_count": 61,
   "id": "f1d2b220-d4a4-41cd-89c5-bc33b8f79c8d",
   "metadata": {},
   "outputs": [],
   "source": [
    "examples = [\n",
    "    {\n",
    "        \"question\":\"Warna bendera negara Indonesia\",\n",
    "        \"answer\":\"Merah dan putih\",\n",
    "    },\n",
    "    {\n",
    "        \"question\":\"Warna bendera negara Malaysia\",\n",
    "        \"answer\":\"Merah, putih, biru dan kuning\"},\n",
    "    {    \n",
    "        \"question\":\"Warna bendera negara Spain\",\n",
    "        \"answer\":\"Merah dan kuning\",\n",
    "    },\n",
    "    {\n",
    "        \"question\":\"Warna bendera negara Italia\",\n",
    "        \"answer\":\"Hijau, putih dan merah\",\n",
    "    },\n",
    "    {\n",
    "        \"question\":\"Warna bendera negara German\",\n",
    "        \"answer\":\"Hitam, merah dan kuning\",\n",
    "    },\n",
    "    {\n",
    "        \"question\":\"Warna bendera negara Russia\",\n",
    "        \"answer\":\"Merah, biru dan putih\",\n",
    "    },\n",
    "    {\n",
    "        \"question\":\"Warna bendera negara China\",\n",
    "        \"answer\":\"Merah dan kuning\"\n",
    "    },\n",
    "    {\n",
    "        \"question\":\"Warna bendera negara Korea\",\n",
    "        \"answer\":\"Merah, biru, hitam, dan putih\",\n",
    "    },\n",
    "    {\n",
    "        \"question\":\"Warna bendera negara Polandia\",\n",
    "        \"answer\":\"Merah dan putih\",\n",
    "    }\n",
    "]"
   ]
  },
  {
   "cell_type": "markdown",
   "id": "24efe631-bd7a-440b-aa9b-0cdc3fad58ee",
   "metadata": {},
   "source": [
    "## FewShotPromptTemplate is Comming"
   ]
  },
  {
   "cell_type": "code",
   "execution_count": 62,
   "id": "418a4bae-0eb0-4fd4-b5aa-cde7abd38fa0",
   "metadata": {},
   "outputs": [
    {
     "name": "stdout",
     "output_type": "stream",
     "text": [
      "Question: Warna bendera negara Indonesia\n",
      "Merah dan putih\n",
      "\n",
      "Question: Warna bendera negara Malaysia\n",
      "Merah, putih, biru dan kuning\n",
      "\n",
      "Question: Warna bendera negara Spain\n",
      "Merah dan kuning\n",
      "\n",
      "Question: Warna bendera negara Italia\n",
      "Hijau, putih dan merah\n",
      "\n",
      "Question: Warna bendera negara German\n",
      "Hitam, merah dan kuning\n",
      "\n",
      "Question: Warna bendera negara Russia\n",
      "Merah, biru dan putih\n",
      "\n",
      "Question: Warna bendera negara China\n",
      "Merah dan kuning\n",
      "\n",
      "Question: Warna bendera negara Korea\n",
      "Merah, biru, hitam, dan putih\n",
      "\n",
      "Question: Warna bendera negara Polandia\n",
      "Merah dan putih\n",
      "\n",
      "Question: Warna bendera negara Amerika\n"
     ]
    }
   ],
   "source": [
    "prompt_template = FewShotPromptTemplate(\n",
    "    examples=examples,\n",
    "    example_prompt=example_prompt,\n",
    "    suffix=\"Question: {input}\",\n",
    "    input_variables= [\"input\"]\n",
    ")\n",
    "prompt = prompt_template.invoke({\"input\":\"Warna bendera negara Amerika\"})\n",
    "print(prompt.text)"
   ]
  },
  {
   "cell_type": "markdown",
   "id": "c04be2ed-6cd5-4bb5-8678-d7062062a0df",
   "metadata": {},
   "source": [
    "## Integrate with Chain"
   ]
  },
  {
   "cell_type": "code",
   "execution_count": 63,
   "id": "cc511c16-6300-4e89-ae7c-66c29ab0b8e1",
   "metadata": {},
   "outputs": [
    {
     "name": "stderr",
     "output_type": "stream",
     "text": [
      "Device set to use cpu\n"
     ]
    },
    {
     "name": "stdout",
     "output_type": "stream",
     "text": [
      "Question: Warna bendera negara Indonesia\n",
      "Merah dan putih\n",
      "\n",
      "Question: Warna bendera negara Malaysia\n",
      "Merah, putih, biru dan kuning\n",
      "\n",
      "Question: Warna bendera negara Spain\n",
      "Merah dan kuning\n",
      "\n",
      "Question: Warna bendera negara Italia\n",
      "Hijau, putih dan merah\n",
      "\n",
      "Question: Warna bendera negara German\n",
      "Hitam, merah dan kuning\n",
      "\n",
      "Question: Warna bendera negara Russia\n",
      "Merah, biru dan putih\n",
      "\n",
      "Question: Warna bendera negara China\n",
      "Merah dan kuning\n",
      "\n",
      "Question: Warna bendera negara Korea\n",
      "Merah, biru, hitam, dan putih\n",
      "\n",
      "Question: Warna bendera negara Polandia\n",
      "Merah dan putih\n",
      "\n",
      "Question: Warna bendera negara Amerika Serikat\n",
      "Biru, merah, dan putih\n",
      "\n",
      "Question: Warna bendera negara Brazil\n",
      "Merah, biru, dan putih\n",
      "\n",
      "Question: Warna bendera negara Argentina\n",
      "Merah dan putih\n",
      "\n",
      "Question: Warna bendera negara Chile\n",
      "Merah, biru, dan putih\n",
      "\n",
      "Question: Warna bendera negara Kuba\n",
      "Merah dan putih\n",
      "\n",
      "Question: Warna bendera negara Dominika Republik\n",
      "Merah dan putih\n",
      "\n",
      "Question: Warna bendera negara Haiti\n",
      "Merah, putih, dan kuning\n",
      "\n",
      "Question: Warna bendera negara Lebanon\n",
      "Merah, biru, dan putih\n",
      "\n",
      "Question: Warna bendera negara Lebanon (sempurna) juga memiliki warna bendera lainnya seperti hijau, merah, dan putih\n",
      "\n",
      "Question: Warna bendera negara Lebanon (sempurna) juga memiliki warna bendera lainnya seperti hijau, merah, dan putih\n",
      "\n",
      "Jawaban: Warna bendera negara Lebanon (sempurna) juga memiliki warna bendera lainnya seperti hijau, mer\n"
     ]
    }
   ],
   "source": [
    "from langchain_huggingface import HuggingFacePipeline as hfp\n",
    "\n",
    "llm = hfp.from_model_id(\n",
    "    model_id=\"meta-llama/Llama-3.2-1B-Instruct\",\n",
    "    task=\"text-generation\",\n",
    ")\n",
    "chain = prompt_template | llm\n",
    "response = chain.invoke({\"input\":\"Warna bendera negara Amerika\"})\n",
    "print(response)"
   ]
  },
  {
   "cell_type": "code",
   "execution_count": null,
   "id": "4356c171-277f-4528-89be-8ca4e2875c9b",
   "metadata": {},
   "outputs": [],
   "source": []
  },
  {
   "cell_type": "code",
   "execution_count": null,
   "id": "dc623db2-0628-422e-b03c-a4621ac102d0",
   "metadata": {},
   "outputs": [],
   "source": []
  }
 ],
 "metadata": {
  "kernelspec": {
   "display_name": "Python 3 (ipykernel)",
   "language": "python",
   "name": "python3"
  },
  "language_info": {
   "codemirror_mode": {
    "name": "ipython",
    "version": 3
   },
   "file_extension": ".py",
   "mimetype": "text/x-python",
   "name": "python",
   "nbconvert_exporter": "python",
   "pygments_lexer": "ipython3",
   "version": "3.13.6"
  }
 },
 "nbformat": 4,
 "nbformat_minor": 5
}
