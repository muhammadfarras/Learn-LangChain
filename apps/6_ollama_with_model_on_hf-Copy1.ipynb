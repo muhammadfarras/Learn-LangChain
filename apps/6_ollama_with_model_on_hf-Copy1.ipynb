{
 "cells": [
  {
   "cell_type": "markdown",
   "id": "1903039c-e1aa-4785-bf9d-37c2bbc07a43",
   "metadata": {},
   "source": [
    "# Using huggingface model in Ollama\n",
    "\n",
    "Sumber ilmu dapat dilihat di [Ollama LLM | Langchain](https://python.langchain.com/docs/integrations/llms/ollama/)"
   ]
  },
  {
   "cell_type": "code",
   "execution_count": 1,
   "id": "9eb53852-cf83-4b59-bc57-777b4ca8e9d4",
   "metadata": {
    "execution": {
     "iopub.execute_input": "2025-08-24T16:06:38.542786Z",
     "iopub.status.busy": "2025-08-24T16:06:38.542584Z",
     "iopub.status.idle": "2025-08-24T16:06:41.361077Z",
     "shell.execute_reply": "2025-08-24T16:06:41.359844Z",
     "shell.execute_reply.started": "2025-08-24T16:06:38.542770Z"
    }
   },
   "outputs": [],
   "source": [
    "from langchain_core.prompts import ChatPromptTemplate\n",
    "from langchain_ollama.llms import OllamaLLM"
   ]
  },
  {
   "cell_type": "code",
   "execution_count": 2,
   "id": "9d5b925a-00f5-4ccb-b3a4-ec55990c5c8f",
   "metadata": {
    "execution": {
     "iopub.execute_input": "2025-08-24T16:06:41.363483Z",
     "iopub.status.busy": "2025-08-24T16:06:41.362982Z",
     "iopub.status.idle": "2025-08-24T16:06:41.370827Z",
     "shell.execute_reply": "2025-08-24T16:06:41.370001Z",
     "shell.execute_reply.started": "2025-08-24T16:06:41.363449Z"
    }
   },
   "outputs": [
    {
     "name": "stdout",
     "output_type": "stream",
     "text": [
      "input_variables=['math'] input_types={} partial_variables={} messages=[SystemMessagePromptTemplate(prompt=PromptTemplate(input_variables=[], input_types={}, partial_variables={}, template='You are the calculator that responds only number'), additional_kwargs={}), HumanMessagePromptTemplate(prompt=PromptTemplate(input_variables=[], input_types={}, partial_variables={}, template='Answer this math question : What is two pluss two ?'), additional_kwargs={}), AIMessagePromptTemplate(prompt=PromptTemplate(input_variables=[], input_types={}, partial_variables={}, template='4'), additional_kwargs={}), HumanMessagePromptTemplate(prompt=PromptTemplate(input_variables=[], input_types={}, partial_variables={}, template='Answer this math question : What is two times two ?'), additional_kwargs={}), AIMessagePromptTemplate(prompt=PromptTemplate(input_variables=[], input_types={}, partial_variables={}, template='4'), additional_kwargs={}), HumanMessagePromptTemplate(prompt=PromptTemplate(input_variables=[], input_types={}, partial_variables={}, template='Answer this math question : What is 3 times 3 ?'), additional_kwargs={}), AIMessagePromptTemplate(prompt=PromptTemplate(input_variables=[], input_types={}, partial_variables={}, template='9'), additional_kwargs={}), HumanMessagePromptTemplate(prompt=PromptTemplate(input_variables=['math'], input_types={}, partial_variables={}, template='Answer this math question : {math}'), additional_kwargs={})]\n"
     ]
    }
   ],
   "source": [
    "## Membuat Chat Template\n",
    "\n",
    "cpt = ChatPromptTemplate.from_messages(\n",
    "    [\n",
    "        ('system','You are the calculator that responds only number'),\n",
    "        ('human','Answer this math question : What is two pluss two ?'),\n",
    "        ('ai','4'),\n",
    "        ('human','Answer this math question : What is two times two ?'),\n",
    "        ('ai','4'),\n",
    "        ('human','Answer this math question : What is 3 times 3 ?'),\n",
    "        ('ai','9'),\n",
    "        ('human','Answer this math question : {math}')\n",
    "    ]\n",
    ")\n",
    "print(cpt)"
   ]
  },
  {
   "cell_type": "markdown",
   "id": "c3e17505-69ac-45e9-957c-f4ef091d2974",
   "metadata": {},
   "source": [
    "## Memuat model LLM dari Ollama\n"
   ]
  },
  {
   "cell_type": "code",
   "execution_count": 3,
   "id": "c6817e51-c8ec-4d40-9e44-c666393862ab",
   "metadata": {
    "execution": {
     "iopub.execute_input": "2025-08-24T16:06:41.372238Z",
     "iopub.status.busy": "2025-08-24T16:06:41.371695Z",
     "iopub.status.idle": "2025-08-24T16:06:42.630529Z",
     "shell.execute_reply": "2025-08-24T16:06:42.629283Z",
     "shell.execute_reply.started": "2025-08-24T16:06:41.372218Z"
    }
   },
   "outputs": [],
   "source": [
    "model = OllamaLLM(model='llama3.2:latest')\n",
    "\n",
    "# Membuat chain\n",
    "chain = cpt | model"
   ]
  },
  {
   "cell_type": "code",
   "execution_count": 9,
   "id": "e33babc8-39e0-40f5-8760-3003e2e68b6e",
   "metadata": {
    "execution": {
     "iopub.execute_input": "2025-08-24T17:29:52.690558Z",
     "iopub.status.busy": "2025-08-24T17:29:52.687873Z",
     "iopub.status.idle": "2025-08-24T17:30:10.582483Z",
     "shell.execute_reply": "2025-08-24T17:30:10.580490Z",
     "shell.execute_reply.started": "2025-08-24T17:29:52.690463Z"
    }
   },
   "outputs": [
    {
     "name": "stdout",
     "output_type": "stream",
     "text": [
      "8\n"
     ]
    }
   ],
   "source": [
    "# Invoke chain\n",
    "\n",
    "response = chain.invoke(\n",
    "    {'math':'What is ten substract by two?'}\n",
    ")\n",
    "print(response)"
   ]
  },
  {
   "cell_type": "code",
   "execution_count": null,
   "id": "35c479e2-55d3-4a8d-9589-58686a35216c",
   "metadata": {},
   "outputs": [],
   "source": []
  }
 ],
 "metadata": {
  "kernelspec": {
   "display_name": "Python 3 (ipykernel)",
   "language": "python",
   "name": "python3"
  },
  "language_info": {
   "codemirror_mode": {
    "name": "ipython",
    "version": 3
   },
   "file_extension": ".py",
   "mimetype": "text/x-python",
   "name": "python",
   "nbconvert_exporter": "python",
   "pygments_lexer": "ipython3",
   "version": "3.13.6"
  }
 },
 "nbformat": 4,
 "nbformat_minor": 5
}
