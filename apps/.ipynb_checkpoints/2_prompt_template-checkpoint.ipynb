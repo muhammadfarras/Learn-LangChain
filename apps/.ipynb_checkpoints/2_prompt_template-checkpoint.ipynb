{
 "cells": [
  {
   "cell_type": "markdown",
   "id": "8f365d26-d92a-47c2-b3d7-abc226e1c46a",
   "metadata": {},
   "source": [
    "# Prompt Template"
   ]
  },
  {
   "cell_type": "markdown",
   "id": "0bcd9c36-510c-4ffb-b766-63bc4dd016c9",
   "metadata": {},
   "source": [
    "### Notes\n",
    "Promptemplate, adalah compnent yang penting pada langchain, \n",
    "fungsinya seperti resep yang dapat digunakan berulang kali untuk mendefinisikan perintah kepada LLM"
   ]
  },
  {
   "cell_type": "code",
   "execution_count": 9,
   "id": "0c0e2f40-8686-44e3-a03e-33bdcfcc8e2d",
   "metadata": {},
   "outputs": [],
   "source": [
    "from langchain_core.prompts import PromptTemplate\n",
    "template_string = \"Explain this concept simply and concisely: {concepts}\""
   ]
  },
  {
   "cell_type": "markdown",
   "id": "ff76fa7a-cd2a-4a8a-adef-2c758f33ded6",
   "metadata": {},
   "source": [
    "Kalimat yang didalam kurung siku mengindikasi kita akan menggunakan nilai masukan (concept) yang dinamis.\n",
    "Untuk mengkonversi perintah dalam bentuk string kedalam FormTemplate kita dapat menggunakan method `.from_template()`"
   ]
  },
  {
   "cell_type": "code",
   "execution_count": 2,
   "id": "fb8d3d89-7a97-4031-af54-cbb8760d7d25",
   "metadata": {},
   "outputs": [],
   "source": [
    "prompt_template = PromptTemplate.from_template(\n",
    "    template=template_string\n",
    ")"
   ]
  },
  {
   "cell_type": "markdown",
   "id": "23644292-d249-40e8-98c7-d82358938df5",
   "metadata": {},
   "source": [
    "Untuk mengetahui bagaimana variable disisipkan pada prompt template kita dapat menggunakan method `#!python invoke()` dengan parameter\n",
    "pertama adalah promp dalam bentuk `#!python dict`"
   ]
  },
  {
   "cell_type": "code",
   "execution_count": 3,
   "id": "9185f6e0-9982-406b-ad21-eb6527716a00",
   "metadata": {},
   "outputs": [
    {
     "name": "stdout",
     "output_type": "stream",
     "text": [
      "text='Explain this concept simply and concisely: Concept substraction'\n"
     ]
    }
   ],
   "source": [
    "inserted_template = prompt_template.invoke(\n",
    "    input={\n",
    "        \"concepts\":\"Concept substraction\"\n",
    "    }\n",
    ")\n",
    "print(inserted_template)"
   ]
  },
  {
   "cell_type": "markdown",
   "id": "cd4acef4-e9f8-4923-873f-1b13e132eee1",
   "metadata": {},
   "source": [
    "## Integrasi prompt Template dengan LLM"
   ]
  },
  {
   "cell_type": "markdown",
   "id": "d7827971-2213-4ac8-a73e-7eb61bb25a5b",
   "metadata": {},
   "source": [
    "Pertama kita perlu mendefinisikan LLM sebagaimana yang telah kita lakukan"
   ]
  },
  {
   "cell_type": "code",
   "execution_count": 4,
   "id": "ff17d8b7-3dd6-42f3-8b89-f9b386479c33",
   "metadata": {},
   "outputs": [],
   "source": [
    "from langchain_huggingface import HuggingFacePipeline as hfp\n",
    "from huggingface_hub import login\n",
    "\n",
    "# Load env\n",
    "import os\n",
    "from dotenv import dotenv_values as env"
   ]
  },
  {
   "cell_type": "code",
   "execution_count": 5,
   "id": "9e20d50c-2d3b-4a87-bcb9-c03e13b585c3",
   "metadata": {},
   "outputs": [],
   "source": [
    "# Only run this once\n",
    "# my_env = env(os.path.abspath(\"env\"))\n",
    "# access_token_write = my_env.get(\"ACCESS_TOKEN\")\n",
    "# login(token=access_token_write)"
   ]
  },
  {
   "cell_type": "code",
   "execution_count": 6,
   "id": "a6f1aeb1-c6c9-449d-ab8a-4f8724f8fe7a",
   "metadata": {},
   "outputs": [
    {
     "name": "stderr",
     "output_type": "stream",
     "text": [
      "Device set to use cuda:0\n"
     ]
    }
   ],
   "source": [
    "llm = hfp.from_model_id(\n",
    "    model_id=\"meta-llama/Llama-3.2-1B-Instruct\",\n",
    "    task=\"text-generation\",\n",
    ")"
   ]
  },
  {
   "cell_type": "markdown",
   "id": "b449714d-d38c-4d01-8fa4-9d73be900bf0",
   "metadata": {},
   "source": [
    "Untuk mengintegrasikan antara LLM dengan prompt template kita akan menggunakan Langchain expression Language LCEL.\n",
    "Karakter pipe | membentuk sebuah rantai atau ikatan yang mana komponen penting lainya dari lang Chain."
   ]
  },
  {
   "cell_type": "code",
   "execution_count": 7,
   "id": "f54ae0d5-0c80-4b3c-b84a-37570e6aadc5",
   "metadata": {},
   "outputs": [],
   "source": [
    "llm_chain = prompt_template | llm"
   ]
  },
  {
   "cell_type": "markdown",
   "id": "e39731a8-1289-4593-bf79-32642e91e0a7",
   "metadata": {},
   "source": [
    "Chain `|` menghubungkan serangkaian panggilan ke berbagai component menjadi satu urutan, misalkan pada contoh selanjutnya,\n",
    "perintah atau pertanyaan yang kita berikan akan dilempar kedalam prompt template lalu dilanjutkan ke LLM"
   ]
  },
  {
   "cell_type": "code",
   "execution_count": 8,
   "id": "8d23ece6-dd79-42d8-a2db-3a294ccff39d",
   "metadata": {},
   "outputs": [
    {
     "name": "stdout",
     "output_type": "stream",
     "text": [
      "Explain this concept simply and concisely: Selamat pagi dan apa kabarnya?\n",
      "\n",
      "(Translation: Good morning and how are you?)\n",
      "\n",
      "This is a common greeting in Indonesia, where the speaker is addressing someone who is likely to be awake and able to respond. The greeting is informal, but respectful, and is commonly used in formal and informal settings. It's a way of saying \"hello\" and \"how are you?\" in a friendly and polite way.\n",
      "\n",
      "In the context of the song, \"Selamat pagi dan apa kabarnya?\" is likely being used to express a greeting to someone, and then a series of questions is followed by a response. This is a common pattern in Indonesian music, where a greeting is followed by a series of questions and answers. The song may be asking about the person's well-being, their plans for the day, or their thoughts on a particular topic.\n"
     ]
    }
   ],
   "source": [
    "response = llm_chain.invoke(\n",
    "    {\"concepts\": \"Selamat pagi dan apa kabarnya\"}\n",
    ")\n",
    "\n",
    "print(response)"
   ]
  }
 ],
 "metadata": {
  "kernelspec": {
   "display_name": "Python 3 (ipykernel)",
   "language": "python",
   "name": "python3"
  },
  "language_info": {
   "codemirror_mode": {
    "name": "ipython",
    "version": 3
   },
   "file_extension": ".py",
   "mimetype": "text/x-python",
   "name": "python",
   "nbconvert_exporter": "python",
   "pygments_lexer": "ipython3",
   "version": "3.13.6"
  }
 },
 "nbformat": 4,
 "nbformat_minor": 5
}
