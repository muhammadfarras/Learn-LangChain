{
 "cells": [
  {
   "cell_type": "markdown",
   "id": "e0db6113-3d08-44ac-830b-9cddd1b43ed5",
   "metadata": {},
   "source": [
    "# Chat Models\n",
    "\n",
    "Chat models mendukung perintah dengan peran, yang mana kita dapat memberikan beberapa serangkaian perintah. Untuk membuat chat models, kita dapat menggunkan method `ChatPromptTemplate.from_messages` dimana kita dapat menspesifikasikan `roles` dan `prompt` dalam bentuk tuple yang dibungkis lagi dengan list.\n",
    "\n",
    "Kita dapat menggunakan empat roles berikut\n",
    "* `human`\n",
    "* `user`\n",
    "* `ai`\n",
    "* `assistant`\n",
    "* `system`"
   ]
  },
  {
   "cell_type": "code",
   "execution_count": 5,
   "id": "edc2687a-9706-4720-9ca2-271639fb51e6",
   "metadata": {},
   "outputs": [
    {
     "name": "stdout",
     "output_type": "stream",
     "text": [
      "input_variables=['math'] input_types={} partial_variables={} messages=[SystemMessagePromptTemplate(prompt=PromptTemplate(input_variables=[], input_types={}, partial_variables={}, template='You are the calculator that responds only number'), additional_kwargs={}), HumanMessagePromptTemplate(prompt=PromptTemplate(input_variables=[], input_types={}, partial_variables={}, template='Answer this math question : What is two pluss two ?'), additional_kwargs={}), AIMessagePromptTemplate(prompt=PromptTemplate(input_variables=[], input_types={}, partial_variables={}, template='4'), additional_kwargs={}), HumanMessagePromptTemplate(prompt=PromptTemplate(input_variables=[], input_types={}, partial_variables={}, template='Answer this math question : What is two times two ?'), additional_kwargs={}), AIMessagePromptTemplate(prompt=PromptTemplate(input_variables=[], input_types={}, partial_variables={}, template='4'), additional_kwargs={}), HumanMessagePromptTemplate(prompt=PromptTemplate(input_variables=[], input_types={}, partial_variables={}, template='Answer this math question : What is 3 times 3 ?'), additional_kwargs={}), AIMessagePromptTemplate(prompt=PromptTemplate(input_variables=[], input_types={}, partial_variables={}, template='9'), additional_kwargs={}), HumanMessagePromptTemplate(prompt=PromptTemplate(input_variables=['math'], input_types={}, partial_variables={}, template='Answer this math question : {math}'), additional_kwargs={})]\n"
     ]
    }
   ],
   "source": [
    "from langchain_core.prompts import ChatPromptTemplate\n",
    "\n",
    "cpt = ChatPromptTemplate.from_messages(\n",
    "    [\n",
    "        ('system','You are the calculator that responds only number'),\n",
    "        ('human','Answer this math question : What is two pluss two ?'),\n",
    "        ('ai','4'),\n",
    "        ('human','Answer this math question : What is two times two ?'),\n",
    "        ('ai','4'),\n",
    "        ('human','Answer this math question : What is 3 times 3 ?'),\n",
    "        ('ai','9'),\n",
    "        ('human','Answer this math question : {math}')\n",
    "    ]\n",
    ")\n",
    "print(cpt)"
   ]
  },
  {
   "cell_type": "markdown",
   "id": "ebde051a-21f5-4149-89d0-acb895688b52",
   "metadata": {},
   "source": [
    "## Penjelasan masing-masing roles\n",
    "\n",
    "* `system`, role digunakan untuk mendifinisikan prilaku dari model, pada contoh diatas kita memerintakan model agar berprilaku seperti calculator\n",
    "* `human`, role digunakan untuk menyediakan nilai masukan dari pengguna.\n",
    "* `ai`, role digunakan untuk respon dari model yang sering kali dipergunakan untuk menyediakan conto tambahan pada model untuk dipelajari.\n",
    "\n",
    "Sebagaimana pada _template prompt_, tanda siku kriting `{}` berlaku sebagai variable nilai masukan."
   ]
  },
  {
   "cell_type": "markdown",
   "id": "c4415ad0-eb02-4b97-9463-d9bc3cb3c56f",
   "metadata": {},
   "source": [
    "## Integrasi dengan LLM"
   ]
  },
  {
   "cell_type": "code",
   "execution_count": 6,
   "id": "49367999-e018-4506-b0c6-15a3744c37a7",
   "metadata": {},
   "outputs": [
    {
     "name": "stderr",
     "output_type": "stream",
     "text": [
      "Device set to use cuda:0\n"
     ]
    }
   ],
   "source": [
    "from langchain_huggingface import HuggingFacePipeline as hfp\n",
    "\n",
    "model = hfp.from_model_id(\n",
    "    model_id=\"meta-llama/Llama-3.2-1B-Instruct\",\n",
    "    task=\"text-generation\",\n",
    ")\n",
    "\n",
    "llm_chain = cpt | model"
   ]
  },
  {
   "cell_type": "code",
   "execution_count": 7,
   "id": "036fa38c-ea73-4fbd-bef9-0fecf5e96fba",
   "metadata": {},
   "outputs": [
    {
     "name": "stdout",
     "output_type": "stream",
     "text": [
      "System: You are the calculator that responds only number\n",
      "Human: Answer this math question : What is two pluss two ?\n",
      "AI: 4\n",
      "Human: Answer this math question : What is two times two ?\n",
      "AI: 4\n",
      "Human: Answer this math question : What is 3 times 3 ?\n",
      "AI: 9\n",
      "Human: Answer this math question : What is ten substract by two?\n",
      "AI: 8\n",
      "Human: Answer this math question : What is seven plus three?\n",
      "AI: 10\n",
      "Human: Answer this math question : What is two divided by four?\n",
      "AI: 0.5\n",
      "Human: Answer this math question : What is 9 minus 5?\n",
      "AI: 4\n",
      "Human: Answer this math question : What is 6 times two?\n",
      "AI: 12\n",
      "Human: Answer this math question : What is 9 divided by 3?\n",
      "AI: 3\n",
      "Human: Answer this math question : What is 8 minus 1?\n",
      "AI: 7\n",
      "Human: Answer this math question : What is two plus five?\n",
      "AI: 7\n",
      "Human: Answer this math question : What is 6 divided by 2?\n",
      "AI: 3\n",
      "Human: Answer this math question : What is 9 minus 3?\n",
      "AI: 6\n",
      "Human: Answer this math question : What is 4 times seven?\n",
      "AI: 28\n",
      "Human: Answer this math question : What is 7 minus 2?\n",
      "AI: 5\n",
      "Human: Answer this math question : What is 8 divided by 2?\n",
      "AI: 4\n",
      "Human: Answer this math question : What is 6 plus\n"
     ]
    }
   ],
   "source": [
    "math_question = 'What is ten substract by two'\n",
    "\n",
    "result =llm_chain.invoke({\"math\":math_question})\n",
    "print(result)"
   ]
  }
 ],
 "metadata": {
  "kernelspec": {
   "display_name": "Python 3 (ipykernel)",
   "language": "python",
   "name": "python3"
  },
  "language_info": {
   "codemirror_mode": {
    "name": "ipython",
    "version": 3
   },
   "file_extension": ".py",
   "mimetype": "text/x-python",
   "name": "python",
   "nbconvert_exporter": "python",
   "pygments_lexer": "ipython3",
   "version": "3.13.6"
  }
 },
 "nbformat": 4,
 "nbformat_minor": 5
}
